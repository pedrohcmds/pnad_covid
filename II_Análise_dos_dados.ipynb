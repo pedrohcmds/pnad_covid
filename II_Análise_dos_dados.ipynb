{
  "nbformat": 4,
  "nbformat_minor": 0,
  "metadata": {
    "colab": {
      "provenance": []
    },
    "kernelspec": {
      "name": "python3",
      "display_name": "Python 3"
    },
    "language_info": {
      "name": "python"
    }
  },
  "cells": [
    {
      "cell_type": "markdown",
      "source": [
        "Este documento é a segunda parte de uma análise de dados sobre a Pesquisa Nacional por Amostra de Domicílios - PNAD COVID19, acerca dos dados coletados pelo IBGE no ano de 2020 para compreender a situação das famílias em relação à pandemia do Sars-cov19"
      ],
      "metadata": {
        "id": "Y2rNfbzBeXXr"
      }
    },
    {
      "cell_type": "markdown",
      "source": [
        "Os dados foram previamente tratados e agora é necessário realizar as análises tendo em vista o escopo do estudo"
      ],
      "metadata": {
        "id": "TuDT44xWegcU"
      }
    },
    {
      "cell_type": "markdown",
      "source": [
        "# Escopo de trabalho\n",
        "\n",
        "Agora, conhecendo melhor os dados e tendo uma base única, é necessário entender quais perguntas orientam essa análise para compreender melhor como trabalhar com os dados de forma a responder essas perguntas\n",
        "\n",
        "Diante disso, o objetivo dessa análise será compreender, através dos dados da PNAD - COVID a situação socio-econômica das famílias que foram de alguma forma afetadas pelo coronavírus. \n",
        "\n",
        "Mais especificamente, esse objetivo será atingido analisando:\n",
        "1. Quantas famílias foram acometidas por pelo menos 2 (dois) sintomas do Coronavírus, que serão doravante denominadas famílias sintomáticas;\n",
        "1. Quantas dessas famílias sintomáticas por dois ou mais sintomas possuem plano de saúde;\n",
        "1. Quantas das famílias sintomáticas fizeram o teste de COVID;\n",
        "1. Quantas das famílias sintomáticas que fizeram o teste de COVID testaram positivo;\n",
        "1. Qual a distribuição geográfica das famílias sintomáticas;\n",
        "1. Qual foi o comportamento do número de famílias no tempo escolhido;\n",
        "1. Quais são as condições de trabalho das famílias sintomáticas na região mais afetadas com casos confirmados e suspeitos;\n",
        "1. Qual o rendimento médio das famílias em geral e das famílias afetadas sintomáticas;\n",
        "1. Qual a situação das famílias sintomáticas em relação à empréstimos;\n",
        "\n",
        "\n"
      ],
      "metadata": {
        "id": "zX8PPDOSeqMl"
      }
    },
    {
      "cell_type": "markdown",
      "source": [
        "# Analisando dados"
      ],
      "metadata": {
        "id": "KwH3Bxcqeum_"
      }
    },
    {
      "cell_type": "markdown",
      "source": [
        "## Importando bibliotecas"
      ],
      "metadata": {
        "id": "dnA58_FPe7LD"
      }
    },
    {
      "cell_type": "code",
      "source": [
        "import pandas as pd\n",
        "import seaborn as sns\n",
        "import matplotlib.pyplot as plt\n",
        "import numpy as np"
      ],
      "metadata": {
        "id": "dRsiQBrGe6qk"
      },
      "execution_count": 22,
      "outputs": []
    },
    {
      "cell_type": "markdown",
      "source": [
        "## Importando dados"
      ],
      "metadata": {
        "id": "QpnLoRLrerHO"
      }
    },
    {
      "cell_type": "code",
      "execution_count": 23,
      "metadata": {
        "id": "4AeVICOoeWd-"
      },
      "outputs": [],
      "source": [
        "dados = pd.read_csv('/content/dados_pnad_tratados.csv', sep=';')"
      ]
    },
    {
      "cell_type": "code",
      "source": [
        "dados.head()"
      ],
      "metadata": {
        "colab": {
          "base_uri": "https://localhost:8080/",
          "height": 270
        },
        "id": "Wteuu17kfHkp",
        "outputId": "79b7a2cb-19fe-48da-a7e4-fd488643641e"
      },
      "execution_count": 24,
      "outputs": [
        {
          "output_type": "execute_result",
          "data": {
            "text/plain": [
              "   UF  mes  urbano_rural  possui_plano_saude  fez_teste_covid  \\\n",
              "0  11    9             1                   1              NaN   \n",
              "1  11    9             1                   2              NaN   \n",
              "2  11    9             1                   1              NaN   \n",
              "3  11    9             1                   1              NaN   \n",
              "4  11    9             1                   2              NaN   \n",
              "\n",
              "   resultado_exame_swab  resultado_furo  resultado_sangue  \\\n",
              "0                   NaN             NaN               NaN   \n",
              "1                   NaN             NaN               NaN   \n",
              "2                   NaN             NaN               NaN   \n",
              "3                   NaN             NaN               NaN   \n",
              "4                   NaN             NaN               NaN   \n",
              "\n",
              "   trabalhou_na_ultima_semana  asfastado_na_ultima_semana  \\\n",
              "0                         1.0                         NaN   \n",
              "1                         1.0                         NaN   \n",
              "2                         NaN                         NaN   \n",
              "3                         NaN                         NaN   \n",
              "4                         2.0                         2.0   \n",
              "\n",
              "   continuou_remunerado  mais_de_1_trabalho  faixa_salarial  salario_familiar  \\\n",
              "0                   NaN                 2.0             4.0               NaN   \n",
              "1                   NaN                 2.0             4.0               NaN   \n",
              "2                   NaN                 NaN             NaN               NaN   \n",
              "3                   NaN                 NaN             NaN               NaN   \n",
              "4                   NaN                 NaN             NaN            1045.0   \n",
              "\n",
              "   possui_emprestimo  qtd_sintomas  \n",
              "0                3.0           0.0  \n",
              "1                3.0           0.0  \n",
              "2                3.0           0.0  \n",
              "3                3.0           0.0  \n",
              "4                3.0           0.0  "
            ],
            "text/html": [
              "\n",
              "  <div id=\"df-e3abd08d-a4a9-4c0a-9b73-8c2e89041bbb\">\n",
              "    <div class=\"colab-df-container\">\n",
              "      <div>\n",
              "<style scoped>\n",
              "    .dataframe tbody tr th:only-of-type {\n",
              "        vertical-align: middle;\n",
              "    }\n",
              "\n",
              "    .dataframe tbody tr th {\n",
              "        vertical-align: top;\n",
              "    }\n",
              "\n",
              "    .dataframe thead th {\n",
              "        text-align: right;\n",
              "    }\n",
              "</style>\n",
              "<table border=\"1\" class=\"dataframe\">\n",
              "  <thead>\n",
              "    <tr style=\"text-align: right;\">\n",
              "      <th></th>\n",
              "      <th>UF</th>\n",
              "      <th>mes</th>\n",
              "      <th>urbano_rural</th>\n",
              "      <th>possui_plano_saude</th>\n",
              "      <th>fez_teste_covid</th>\n",
              "      <th>resultado_exame_swab</th>\n",
              "      <th>resultado_furo</th>\n",
              "      <th>resultado_sangue</th>\n",
              "      <th>trabalhou_na_ultima_semana</th>\n",
              "      <th>asfastado_na_ultima_semana</th>\n",
              "      <th>continuou_remunerado</th>\n",
              "      <th>mais_de_1_trabalho</th>\n",
              "      <th>faixa_salarial</th>\n",
              "      <th>salario_familiar</th>\n",
              "      <th>possui_emprestimo</th>\n",
              "      <th>qtd_sintomas</th>\n",
              "    </tr>\n",
              "  </thead>\n",
              "  <tbody>\n",
              "    <tr>\n",
              "      <th>0</th>\n",
              "      <td>11</td>\n",
              "      <td>9</td>\n",
              "      <td>1</td>\n",
              "      <td>1</td>\n",
              "      <td>NaN</td>\n",
              "      <td>NaN</td>\n",
              "      <td>NaN</td>\n",
              "      <td>NaN</td>\n",
              "      <td>1.0</td>\n",
              "      <td>NaN</td>\n",
              "      <td>NaN</td>\n",
              "      <td>2.0</td>\n",
              "      <td>4.0</td>\n",
              "      <td>NaN</td>\n",
              "      <td>3.0</td>\n",
              "      <td>0.0</td>\n",
              "    </tr>\n",
              "    <tr>\n",
              "      <th>1</th>\n",
              "      <td>11</td>\n",
              "      <td>9</td>\n",
              "      <td>1</td>\n",
              "      <td>2</td>\n",
              "      <td>NaN</td>\n",
              "      <td>NaN</td>\n",
              "      <td>NaN</td>\n",
              "      <td>NaN</td>\n",
              "      <td>1.0</td>\n",
              "      <td>NaN</td>\n",
              "      <td>NaN</td>\n",
              "      <td>2.0</td>\n",
              "      <td>4.0</td>\n",
              "      <td>NaN</td>\n",
              "      <td>3.0</td>\n",
              "      <td>0.0</td>\n",
              "    </tr>\n",
              "    <tr>\n",
              "      <th>2</th>\n",
              "      <td>11</td>\n",
              "      <td>9</td>\n",
              "      <td>1</td>\n",
              "      <td>1</td>\n",
              "      <td>NaN</td>\n",
              "      <td>NaN</td>\n",
              "      <td>NaN</td>\n",
              "      <td>NaN</td>\n",
              "      <td>NaN</td>\n",
              "      <td>NaN</td>\n",
              "      <td>NaN</td>\n",
              "      <td>NaN</td>\n",
              "      <td>NaN</td>\n",
              "      <td>NaN</td>\n",
              "      <td>3.0</td>\n",
              "      <td>0.0</td>\n",
              "    </tr>\n",
              "    <tr>\n",
              "      <th>3</th>\n",
              "      <td>11</td>\n",
              "      <td>9</td>\n",
              "      <td>1</td>\n",
              "      <td>1</td>\n",
              "      <td>NaN</td>\n",
              "      <td>NaN</td>\n",
              "      <td>NaN</td>\n",
              "      <td>NaN</td>\n",
              "      <td>NaN</td>\n",
              "      <td>NaN</td>\n",
              "      <td>NaN</td>\n",
              "      <td>NaN</td>\n",
              "      <td>NaN</td>\n",
              "      <td>NaN</td>\n",
              "      <td>3.0</td>\n",
              "      <td>0.0</td>\n",
              "    </tr>\n",
              "    <tr>\n",
              "      <th>4</th>\n",
              "      <td>11</td>\n",
              "      <td>9</td>\n",
              "      <td>1</td>\n",
              "      <td>2</td>\n",
              "      <td>NaN</td>\n",
              "      <td>NaN</td>\n",
              "      <td>NaN</td>\n",
              "      <td>NaN</td>\n",
              "      <td>2.0</td>\n",
              "      <td>2.0</td>\n",
              "      <td>NaN</td>\n",
              "      <td>NaN</td>\n",
              "      <td>NaN</td>\n",
              "      <td>1045.0</td>\n",
              "      <td>3.0</td>\n",
              "      <td>0.0</td>\n",
              "    </tr>\n",
              "  </tbody>\n",
              "</table>\n",
              "</div>\n",
              "      <button class=\"colab-df-convert\" onclick=\"convertToInteractive('df-e3abd08d-a4a9-4c0a-9b73-8c2e89041bbb')\"\n",
              "              title=\"Convert this dataframe to an interactive table.\"\n",
              "              style=\"display:none;\">\n",
              "        \n",
              "  <svg xmlns=\"http://www.w3.org/2000/svg\" height=\"24px\"viewBox=\"0 0 24 24\"\n",
              "       width=\"24px\">\n",
              "    <path d=\"M0 0h24v24H0V0z\" fill=\"none\"/>\n",
              "    <path d=\"M18.56 5.44l.94 2.06.94-2.06 2.06-.94-2.06-.94-.94-2.06-.94 2.06-2.06.94zm-11 1L8.5 8.5l.94-2.06 2.06-.94-2.06-.94L8.5 2.5l-.94 2.06-2.06.94zm10 10l.94 2.06.94-2.06 2.06-.94-2.06-.94-.94-2.06-.94 2.06-2.06.94z\"/><path d=\"M17.41 7.96l-1.37-1.37c-.4-.4-.92-.59-1.43-.59-.52 0-1.04.2-1.43.59L10.3 9.45l-7.72 7.72c-.78.78-.78 2.05 0 2.83L4 21.41c.39.39.9.59 1.41.59.51 0 1.02-.2 1.41-.59l7.78-7.78 2.81-2.81c.8-.78.8-2.07 0-2.86zM5.41 20L4 18.59l7.72-7.72 1.47 1.35L5.41 20z\"/>\n",
              "  </svg>\n",
              "      </button>\n",
              "      \n",
              "  <style>\n",
              "    .colab-df-container {\n",
              "      display:flex;\n",
              "      flex-wrap:wrap;\n",
              "      gap: 12px;\n",
              "    }\n",
              "\n",
              "    .colab-df-convert {\n",
              "      background-color: #E8F0FE;\n",
              "      border: none;\n",
              "      border-radius: 50%;\n",
              "      cursor: pointer;\n",
              "      display: none;\n",
              "      fill: #1967D2;\n",
              "      height: 32px;\n",
              "      padding: 0 0 0 0;\n",
              "      width: 32px;\n",
              "    }\n",
              "\n",
              "    .colab-df-convert:hover {\n",
              "      background-color: #E2EBFA;\n",
              "      box-shadow: 0px 1px 2px rgba(60, 64, 67, 0.3), 0px 1px 3px 1px rgba(60, 64, 67, 0.15);\n",
              "      fill: #174EA6;\n",
              "    }\n",
              "\n",
              "    [theme=dark] .colab-df-convert {\n",
              "      background-color: #3B4455;\n",
              "      fill: #D2E3FC;\n",
              "    }\n",
              "\n",
              "    [theme=dark] .colab-df-convert:hover {\n",
              "      background-color: #434B5C;\n",
              "      box-shadow: 0px 1px 3px 1px rgba(0, 0, 0, 0.15);\n",
              "      filter: drop-shadow(0px 1px 2px rgba(0, 0, 0, 0.3));\n",
              "      fill: #FFFFFF;\n",
              "    }\n",
              "  </style>\n",
              "\n",
              "      <script>\n",
              "        const buttonEl =\n",
              "          document.querySelector('#df-e3abd08d-a4a9-4c0a-9b73-8c2e89041bbb button.colab-df-convert');\n",
              "        buttonEl.style.display =\n",
              "          google.colab.kernel.accessAllowed ? 'block' : 'none';\n",
              "\n",
              "        async function convertToInteractive(key) {\n",
              "          const element = document.querySelector('#df-e3abd08d-a4a9-4c0a-9b73-8c2e89041bbb');\n",
              "          const dataTable =\n",
              "            await google.colab.kernel.invokeFunction('convertToInteractive',\n",
              "                                                     [key], {});\n",
              "          if (!dataTable) return;\n",
              "\n",
              "          const docLinkHtml = 'Like what you see? Visit the ' +\n",
              "            '<a target=\"_blank\" href=https://colab.research.google.com/notebooks/data_table.ipynb>data table notebook</a>'\n",
              "            + ' to learn more about interactive tables.';\n",
              "          element.innerHTML = '';\n",
              "          dataTable['output_type'] = 'display_data';\n",
              "          await google.colab.output.renderOutput(dataTable, element);\n",
              "          const docLink = document.createElement('div');\n",
              "          docLink.innerHTML = docLinkHtml;\n",
              "          element.appendChild(docLink);\n",
              "        }\n",
              "      </script>\n",
              "    </div>\n",
              "  </div>\n",
              "  "
            ]
          },
          "metadata": {},
          "execution_count": 24
        }
      ]
    },
    {
      "cell_type": "markdown",
      "source": [
        "Verificando a quantidades de registros por UF"
      ],
      "metadata": {
        "id": "Sp3Gmg8Ij8Vy"
      }
    },
    {
      "cell_type": "code",
      "source": [
        "dados.UF.value_counts()"
      ],
      "metadata": {
        "colab": {
          "base_uri": "https://localhost:8080/"
        },
        "id": "3izk58Eygsqh",
        "outputId": "ec20f8e1-5422-435a-ab75-fd4116b3d09c"
      },
      "execution_count": 25,
      "outputs": [
        {
          "output_type": "execute_result",
          "data": {
            "text/plain": [
              "31    93934\n",
              "35    65917\n",
              "21    61200\n",
              "33    58340\n",
              "29    51310\n",
              "26    50811\n",
              "23    50536\n",
              "42    47558\n",
              "43    44515\n",
              "41    40112\n",
              "15    35764\n",
              "27    34450\n",
              "32    31648\n",
              "13    31355\n",
              "25    29687\n",
              "52    27782\n",
              "22    25137\n",
              "28    24216\n",
              "24    23552\n",
              "51    22797\n",
              "12    18834\n",
              "50    17777\n",
              "14    16674\n",
              "11    16622\n",
              "17    15446\n",
              "53    13111\n",
              "16     7677\n",
              "Name: UF, dtype: int64"
            ]
          },
          "metadata": {},
          "execution_count": 25
        }
      ]
    },
    {
      "cell_type": "markdown",
      "source": [
        "Criando descrição nomimal de cada UF"
      ],
      "metadata": {
        "id": "X8QFyp1ukAZC"
      }
    },
    {
      "cell_type": "code",
      "source": [
        "mapeia_uf = {\n",
        "11\t: \"Rondônia\",\n",
        "12\t: \"Acre\",\n",
        "13\t: \"Amazonas\",\n",
        "14\t: \"Roraima\",\n",
        "15\t: \"Pará\",\n",
        "16\t: \"Amapá\",\n",
        "17\t: \"Tocantins\",\n",
        "21\t: \"Maranhão\",\n",
        "22\t: \"Piauí\",\n",
        "23\t: \"Ceará\",\n",
        "24\t: \"Rio Grande do Norte\",\n",
        "25\t: \"Paraíba\",\n",
        "26\t: \"Pernambuco\",\n",
        "27\t: \"Alagoas\",\n",
        "28\t: \"Sergipe\",\n",
        "29\t: \"Bahia\",\n",
        "31\t: \"Minas Gerais\",\n",
        "32\t: \"Espírito Santo\",\n",
        "33\t: \"Rio de Janeiro\",\n",
        "35\t: \"São Paulo\",\n",
        "41\t: \"Paraná\",\n",
        "42\t: \"Santa Catarina\",\n",
        "43\t: \"Rio Grande do Sul\",\n",
        "50\t: \"Mato Grosso do Sul\",\n",
        "51\t: \"Mato Grosso\",\n",
        "52\t: \"Goiás\",\n",
        "53\t: \"Distrito Federal\",\n",
        "}"
      ],
      "metadata": {
        "id": "fhLlbqpAfeFk"
      },
      "execution_count": 26,
      "outputs": []
    },
    {
      "cell_type": "code",
      "source": [
        "dados['estado'] = dados.UF.map(mapeia_uf)"
      ],
      "metadata": {
        "id": "KpPJs1YxiZII"
      },
      "execution_count": 27,
      "outputs": []
    },
    {
      "cell_type": "markdown",
      "source": [
        "Identificando registros com mais de um sintoma, que serão denominados sintomaticos"
      ],
      "metadata": {
        "id": "Ij8GcCj5kII8"
      }
    },
    {
      "cell_type": "code",
      "source": [
        "familias_sintomaticas = dados[dados.qtd_sintomas >1]"
      ],
      "metadata": {
        "id": "YLLCB8RWkOSS"
      },
      "execution_count": 28,
      "outputs": []
    },
    {
      "cell_type": "code",
      "source": [
        "familias_sintomaticas.head()"
      ],
      "metadata": {
        "colab": {
          "base_uri": "https://localhost:8080/",
          "height": 270
        },
        "id": "WaVw4astkS7G",
        "outputId": "834aa817-cdad-40c2-82b3-82cb2a250c0b"
      },
      "execution_count": 29,
      "outputs": [
        {
          "output_type": "execute_result",
          "data": {
            "text/plain": [
              "     UF  mes  urbano_rural  possui_plano_saude  fez_teste_covid  \\\n",
              "25   11    9             1                   2              NaN   \n",
              "61   11    9             1                   2              NaN   \n",
              "167  11    9             1                   1              NaN   \n",
              "215  11    9             1                   1              1.0   \n",
              "216  11    9             1                   2              1.0   \n",
              "\n",
              "     resultado_exame_swab  resultado_furo  resultado_sangue  \\\n",
              "25                    NaN             NaN               NaN   \n",
              "61                    NaN             NaN               NaN   \n",
              "167                   NaN             NaN               NaN   \n",
              "215                   1.0             NaN               NaN   \n",
              "216                   1.0             NaN               NaN   \n",
              "\n",
              "     trabalhou_na_ultima_semana  asfastado_na_ultima_semana  \\\n",
              "25                          NaN                         NaN   \n",
              "61                          2.0                         2.0   \n",
              "167                         2.0                         2.0   \n",
              "215                         1.0                         NaN   \n",
              "216                         1.0                         NaN   \n",
              "\n",
              "     continuou_remunerado  mais_de_1_trabalho  faixa_salarial  \\\n",
              "25                    NaN                 NaN             NaN   \n",
              "61                    NaN                 NaN             NaN   \n",
              "167                   NaN                 NaN             NaN   \n",
              "215                   NaN                 2.0             4.0   \n",
              "216                   NaN                 2.0             4.0   \n",
              "\n",
              "     salario_familiar  possui_emprestimo  qtd_sintomas    estado  \n",
              "25                NaN                3.0          11.0  Rondônia  \n",
              "61                NaN                3.0           2.0  Rondônia  \n",
              "167               NaN                3.0           6.0  Rondônia  \n",
              "215               NaN                3.0          10.0  Rondônia  \n",
              "216               NaN                3.0          10.0  Rondônia  "
            ],
            "text/html": [
              "\n",
              "  <div id=\"df-be7eeb04-c59a-4dde-ad4d-c97b583b1412\">\n",
              "    <div class=\"colab-df-container\">\n",
              "      <div>\n",
              "<style scoped>\n",
              "    .dataframe tbody tr th:only-of-type {\n",
              "        vertical-align: middle;\n",
              "    }\n",
              "\n",
              "    .dataframe tbody tr th {\n",
              "        vertical-align: top;\n",
              "    }\n",
              "\n",
              "    .dataframe thead th {\n",
              "        text-align: right;\n",
              "    }\n",
              "</style>\n",
              "<table border=\"1\" class=\"dataframe\">\n",
              "  <thead>\n",
              "    <tr style=\"text-align: right;\">\n",
              "      <th></th>\n",
              "      <th>UF</th>\n",
              "      <th>mes</th>\n",
              "      <th>urbano_rural</th>\n",
              "      <th>possui_plano_saude</th>\n",
              "      <th>fez_teste_covid</th>\n",
              "      <th>resultado_exame_swab</th>\n",
              "      <th>resultado_furo</th>\n",
              "      <th>resultado_sangue</th>\n",
              "      <th>trabalhou_na_ultima_semana</th>\n",
              "      <th>asfastado_na_ultima_semana</th>\n",
              "      <th>continuou_remunerado</th>\n",
              "      <th>mais_de_1_trabalho</th>\n",
              "      <th>faixa_salarial</th>\n",
              "      <th>salario_familiar</th>\n",
              "      <th>possui_emprestimo</th>\n",
              "      <th>qtd_sintomas</th>\n",
              "      <th>estado</th>\n",
              "    </tr>\n",
              "  </thead>\n",
              "  <tbody>\n",
              "    <tr>\n",
              "      <th>25</th>\n",
              "      <td>11</td>\n",
              "      <td>9</td>\n",
              "      <td>1</td>\n",
              "      <td>2</td>\n",
              "      <td>NaN</td>\n",
              "      <td>NaN</td>\n",
              "      <td>NaN</td>\n",
              "      <td>NaN</td>\n",
              "      <td>NaN</td>\n",
              "      <td>NaN</td>\n",
              "      <td>NaN</td>\n",
              "      <td>NaN</td>\n",
              "      <td>NaN</td>\n",
              "      <td>NaN</td>\n",
              "      <td>3.0</td>\n",
              "      <td>11.0</td>\n",
              "      <td>Rondônia</td>\n",
              "    </tr>\n",
              "    <tr>\n",
              "      <th>61</th>\n",
              "      <td>11</td>\n",
              "      <td>9</td>\n",
              "      <td>1</td>\n",
              "      <td>2</td>\n",
              "      <td>NaN</td>\n",
              "      <td>NaN</td>\n",
              "      <td>NaN</td>\n",
              "      <td>NaN</td>\n",
              "      <td>2.0</td>\n",
              "      <td>2.0</td>\n",
              "      <td>NaN</td>\n",
              "      <td>NaN</td>\n",
              "      <td>NaN</td>\n",
              "      <td>NaN</td>\n",
              "      <td>3.0</td>\n",
              "      <td>2.0</td>\n",
              "      <td>Rondônia</td>\n",
              "    </tr>\n",
              "    <tr>\n",
              "      <th>167</th>\n",
              "      <td>11</td>\n",
              "      <td>9</td>\n",
              "      <td>1</td>\n",
              "      <td>1</td>\n",
              "      <td>NaN</td>\n",
              "      <td>NaN</td>\n",
              "      <td>NaN</td>\n",
              "      <td>NaN</td>\n",
              "      <td>2.0</td>\n",
              "      <td>2.0</td>\n",
              "      <td>NaN</td>\n",
              "      <td>NaN</td>\n",
              "      <td>NaN</td>\n",
              "      <td>NaN</td>\n",
              "      <td>3.0</td>\n",
              "      <td>6.0</td>\n",
              "      <td>Rondônia</td>\n",
              "    </tr>\n",
              "    <tr>\n",
              "      <th>215</th>\n",
              "      <td>11</td>\n",
              "      <td>9</td>\n",
              "      <td>1</td>\n",
              "      <td>1</td>\n",
              "      <td>1.0</td>\n",
              "      <td>1.0</td>\n",
              "      <td>NaN</td>\n",
              "      <td>NaN</td>\n",
              "      <td>1.0</td>\n",
              "      <td>NaN</td>\n",
              "      <td>NaN</td>\n",
              "      <td>2.0</td>\n",
              "      <td>4.0</td>\n",
              "      <td>NaN</td>\n",
              "      <td>3.0</td>\n",
              "      <td>10.0</td>\n",
              "      <td>Rondônia</td>\n",
              "    </tr>\n",
              "    <tr>\n",
              "      <th>216</th>\n",
              "      <td>11</td>\n",
              "      <td>9</td>\n",
              "      <td>1</td>\n",
              "      <td>2</td>\n",
              "      <td>1.0</td>\n",
              "      <td>1.0</td>\n",
              "      <td>NaN</td>\n",
              "      <td>NaN</td>\n",
              "      <td>1.0</td>\n",
              "      <td>NaN</td>\n",
              "      <td>NaN</td>\n",
              "      <td>2.0</td>\n",
              "      <td>4.0</td>\n",
              "      <td>NaN</td>\n",
              "      <td>3.0</td>\n",
              "      <td>10.0</td>\n",
              "      <td>Rondônia</td>\n",
              "    </tr>\n",
              "  </tbody>\n",
              "</table>\n",
              "</div>\n",
              "      <button class=\"colab-df-convert\" onclick=\"convertToInteractive('df-be7eeb04-c59a-4dde-ad4d-c97b583b1412')\"\n",
              "              title=\"Convert this dataframe to an interactive table.\"\n",
              "              style=\"display:none;\">\n",
              "        \n",
              "  <svg xmlns=\"http://www.w3.org/2000/svg\" height=\"24px\"viewBox=\"0 0 24 24\"\n",
              "       width=\"24px\">\n",
              "    <path d=\"M0 0h24v24H0V0z\" fill=\"none\"/>\n",
              "    <path d=\"M18.56 5.44l.94 2.06.94-2.06 2.06-.94-2.06-.94-.94-2.06-.94 2.06-2.06.94zm-11 1L8.5 8.5l.94-2.06 2.06-.94-2.06-.94L8.5 2.5l-.94 2.06-2.06.94zm10 10l.94 2.06.94-2.06 2.06-.94-2.06-.94-.94-2.06-.94 2.06-2.06.94z\"/><path d=\"M17.41 7.96l-1.37-1.37c-.4-.4-.92-.59-1.43-.59-.52 0-1.04.2-1.43.59L10.3 9.45l-7.72 7.72c-.78.78-.78 2.05 0 2.83L4 21.41c.39.39.9.59 1.41.59.51 0 1.02-.2 1.41-.59l7.78-7.78 2.81-2.81c.8-.78.8-2.07 0-2.86zM5.41 20L4 18.59l7.72-7.72 1.47 1.35L5.41 20z\"/>\n",
              "  </svg>\n",
              "      </button>\n",
              "      \n",
              "  <style>\n",
              "    .colab-df-container {\n",
              "      display:flex;\n",
              "      flex-wrap:wrap;\n",
              "      gap: 12px;\n",
              "    }\n",
              "\n",
              "    .colab-df-convert {\n",
              "      background-color: #E8F0FE;\n",
              "      border: none;\n",
              "      border-radius: 50%;\n",
              "      cursor: pointer;\n",
              "      display: none;\n",
              "      fill: #1967D2;\n",
              "      height: 32px;\n",
              "      padding: 0 0 0 0;\n",
              "      width: 32px;\n",
              "    }\n",
              "\n",
              "    .colab-df-convert:hover {\n",
              "      background-color: #E2EBFA;\n",
              "      box-shadow: 0px 1px 2px rgba(60, 64, 67, 0.3), 0px 1px 3px 1px rgba(60, 64, 67, 0.15);\n",
              "      fill: #174EA6;\n",
              "    }\n",
              "\n",
              "    [theme=dark] .colab-df-convert {\n",
              "      background-color: #3B4455;\n",
              "      fill: #D2E3FC;\n",
              "    }\n",
              "\n",
              "    [theme=dark] .colab-df-convert:hover {\n",
              "      background-color: #434B5C;\n",
              "      box-shadow: 0px 1px 3px 1px rgba(0, 0, 0, 0.15);\n",
              "      filter: drop-shadow(0px 1px 2px rgba(0, 0, 0, 0.3));\n",
              "      fill: #FFFFFF;\n",
              "    }\n",
              "  </style>\n",
              "\n",
              "      <script>\n",
              "        const buttonEl =\n",
              "          document.querySelector('#df-be7eeb04-c59a-4dde-ad4d-c97b583b1412 button.colab-df-convert');\n",
              "        buttonEl.style.display =\n",
              "          google.colab.kernel.accessAllowed ? 'block' : 'none';\n",
              "\n",
              "        async function convertToInteractive(key) {\n",
              "          const element = document.querySelector('#df-be7eeb04-c59a-4dde-ad4d-c97b583b1412');\n",
              "          const dataTable =\n",
              "            await google.colab.kernel.invokeFunction('convertToInteractive',\n",
              "                                                     [key], {});\n",
              "          if (!dataTable) return;\n",
              "\n",
              "          const docLinkHtml = 'Like what you see? Visit the ' +\n",
              "            '<a target=\"_blank\" href=https://colab.research.google.com/notebooks/data_table.ipynb>data table notebook</a>'\n",
              "            + ' to learn more about interactive tables.';\n",
              "          element.innerHTML = '';\n",
              "          dataTable['output_type'] = 'display_data';\n",
              "          await google.colab.output.renderOutput(dataTable, element);\n",
              "          const docLink = document.createElement('div');\n",
              "          docLink.innerHTML = docLinkHtml;\n",
              "          element.appendChild(docLink);\n",
              "        }\n",
              "      </script>\n",
              "    </div>\n",
              "  </div>\n",
              "  "
            ]
          },
          "metadata": {},
          "execution_count": 29
        }
      ]
    },
    {
      "cell_type": "code",
      "source": [
        "sintomaticas = dados.qtd_sintomas >1"
      ],
      "metadata": {
        "id": "RQYK74BWkUIt"
      },
      "execution_count": 30,
      "outputs": []
    },
    {
      "cell_type": "markdown",
      "source": [
        "Verificando quantidade de familias sintomáticas"
      ],
      "metadata": {
        "id": "sCdfYceGl841"
      }
    },
    {
      "cell_type": "code",
      "source": [
        "count_sintomaticas = sintomaticas.value_counts(normalize=True)*100\n",
        "count_sintomaticas"
      ],
      "metadata": {
        "colab": {
          "base_uri": "https://localhost:8080/"
        },
        "id": "cazmpEdbk2ke",
        "outputId": "f99fbfcc-e2cf-4c29-ac06-8755fc8771d6"
      },
      "execution_count": 31,
      "outputs": [
        {
          "output_type": "execute_result",
          "data": {
            "text/plain": [
              "False    97.7936\n",
              "True      2.2064\n",
              "Name: qtd_sintomas, dtype: float64"
            ]
          },
          "metadata": {},
          "execution_count": 31
        }
      ]
    },
    {
      "cell_type": "code",
      "source": [
        "sns.barplot(x=count_sintomaticas.index,  y=count_sintomaticas.values)"
      ],
      "metadata": {
        "colab": {
          "base_uri": "https://localhost:8080/",
          "height": 283
        },
        "id": "30aqYqzqsDFH",
        "outputId": "62794ea6-458c-4d54-dcfe-81d0c6d7c8e6"
      },
      "execution_count": 32,
      "outputs": [
        {
          "output_type": "execute_result",
          "data": {
            "text/plain": [
              "<matplotlib.axes._subplots.AxesSubplot at 0x7f6fcd75aeb0>"
            ]
          },
          "metadata": {},
          "execution_count": 32
        },
        {
          "output_type": "display_data",
          "data": {
            "text/plain": [
              "<Figure size 432x288 with 1 Axes>"
            ],
            "image/png": "[encoded data removed]"
          },
          "metadata": {
            "needs_background": "light"
          }
        }
      ]
    },
    {
      "cell_type": "markdown",
      "source": [
        "Verificando a porcentagem de pessoas que possuem plano de saude"
      ],
      "metadata": {
        "id": "VHQb2lVUmFxl"
      }
    },
    {
      "cell_type": "code",
      "source": [
        "possui_plano_de_saude = dados.possui_plano_saude == 1\n",
        "possui_plano_de_saude.value_counts(normalize=True)*100"
      ],
      "metadata": {
        "colab": {
          "base_uri": "https://localhost:8080/"
        },
        "id": "oSbf1zzVlPrE",
        "outputId": "27d5f2b1-0fc7-46e8-e4c3-4e9f63f19818"
      },
      "execution_count": 33,
      "outputs": [
        {
          "output_type": "execute_result",
          "data": {
            "text/plain": [
              "False    78.922658\n",
              "True     21.077342\n",
              "Name: possui_plano_saude, dtype: float64"
            ]
          },
          "metadata": {},
          "execution_count": 33
        }
      ]
    },
    {
      "cell_type": "markdown",
      "source": [
        "Verificando a pocentagem de famílias sintomáticas que possuem plano de saúde"
      ],
      "metadata": {
        "id": "d1pTZARWmIsA"
      }
    },
    {
      "cell_type": "code",
      "source": [
        "sintomatico_possui_plano_de_saude = familias_sintomaticas.possui_plano_saude == 1\n",
        "sintomatico_possui_plano_de_saude.value_counts(normalize=True)*100"
      ],
      "metadata": {
        "colab": {
          "base_uri": "https://localhost:8080/"
        },
        "id": "j-Zxhp3Mls8E",
        "outputId": "a0afc624-01ed-4502-80e9-610e68860705"
      },
      "execution_count": 34,
      "outputs": [
        {
          "output_type": "execute_result",
          "data": {
            "text/plain": [
              "False    77.707248\n",
              "True     22.292752\n",
              "Name: possui_plano_saude, dtype: float64"
            ]
          },
          "metadata": {},
          "execution_count": 34
        }
      ]
    },
    {
      "cell_type": "markdown",
      "source": [
        "Verificando a quantidade de pessoas sintomáticas que realizaram o teste de covid"
      ],
      "metadata": {
        "id": "OUWkP1bqm4p1"
      }
    },
    {
      "cell_type": "code",
      "source": [
        "sintomatico_fez_teste = familias_sintomaticas.fez_teste_covid == 1\n",
        "sintomatico_fez_teste.value_counts(normalize=True)*100"
      ],
      "metadata": {
        "colab": {
          "base_uri": "https://localhost:8080/"
        },
        "id": "rsEBWHeOmlW5",
        "outputId": "e7a54533-2b5a-4516-d58a-a7fda74cf0a9"
      },
      "execution_count": 35,
      "outputs": [
        {
          "output_type": "execute_result",
          "data": {
            "text/plain": [
              "False    85.897679\n",
              "True     14.102321\n",
              "Name: fez_teste_covid, dtype: float64"
            ]
          },
          "metadata": {},
          "execution_count": 35
        }
      ]
    },
    {
      "cell_type": "markdown",
      "source": [
        "Quantidade de famílias sintomáticas que positivaram para Covid-19 "
      ],
      "metadata": {
        "id": "RNy7o1K8o0-P"
      }
    },
    {
      "cell_type": "code",
      "source": [
        "sintomatico_positivo = (familias_sintomaticas.resultado_exame_swab == 1) | (familias_sintomaticas.resultado_furo ==1 )| (familias_sintomaticas.resultado_sangue ==1)"
      ],
      "metadata": {
        "id": "wo1lg11UnTL8"
      },
      "execution_count": 36,
      "outputs": []
    },
    {
      "cell_type": "code",
      "source": [
        "sintomatico_positivo.value_counts(normalize=True)*100"
      ],
      "metadata": {
        "colab": {
          "base_uri": "https://localhost:8080/"
        },
        "id": "maw55uGUoTtP",
        "outputId": "448f009e-7a49-48b5-df6c-6cf2f68b3e08"
      },
      "execution_count": 37,
      "outputs": [
        {
          "output_type": "execute_result",
          "data": {
            "text/plain": [
              "False    88.275699\n",
              "True     11.724301\n",
              "dtype: float64"
            ]
          },
          "metadata": {},
          "execution_count": 37
        }
      ]
    },
    {
      "cell_type": "code",
      "source": [
        "familias_sintomaticas_por_estado = ((familias_sintomaticas.groupby('estado').count().qtd_sintomas)/familias_sintomaticas.shape[0])*100\n",
        "count_estados_mais_sintomaticos = familias_sintomaticas_por_estado.sort_values(ascending=True).tail(7)\n",
        "count_estados_menos_sintomaticos = familias_sintomaticas_por_estado.sort_values(ascending=True).head(7)\n",
        "familias_sintomaticas_por_estado.sort_values(ascending=True)"
      ],
      "metadata": {
        "id": "6RGevUROodS9",
        "colab": {
          "base_uri": "https://localhost:8080/"
        },
        "outputId": "63f6b6a2-f43f-4209-ddc2-3bc83b8e91ea"
      },
      "execution_count": 38,
      "outputs": [
        {
          "output_type": "execute_result",
          "data": {
            "text/plain": [
              "estado\n",
              "Amapá                   1.222170\n",
              "Distrito Federal        1.553766\n",
              "Acre                    1.615348\n",
              "Tocantins               1.691142\n",
              "Roraima                 1.790621\n",
              "Mato Grosso do Sul      1.823780\n",
              "Rondônia                1.833254\n",
              "Piauí                   2.415917\n",
              "Alagoas                 2.501184\n",
              "Mato Grosso             2.558029\n",
              "Sergipe                 2.581715\n",
              "Rio Grande do Norte     2.638560\n",
              "Espírito Santo          2.723828\n",
              "Paraíba                 3.396495\n",
              "Amazonas                3.775462\n",
              "Paraná                  3.832307\n",
              "Rio de Janeiro          3.955471\n",
              "Santa Catarina          4.064424\n",
              "Goiás                   4.069162\n",
              "Pernambuco              4.400758\n",
              "Ceará                   4.528659\n",
              "Pará                    4.827096\n",
              "Bahia                   5.774514\n",
              "São Paulo               6.243486\n",
              "Rio Grande do Sul       6.395073\n",
              "Maranhão                7.048792\n",
              "Minas Gerais           10.738986\n",
              "Name: qtd_sintomas, dtype: float64"
            ]
          },
          "metadata": {},
          "execution_count": 38
        }
      ]
    },
    {
      "cell_type": "code",
      "source": [
        "sns.set_style(\"darkgrid\", {\"grid.color\": \".6\", \"grid.linestyle\": \":\"})\n",
        "ax = sns.barplot(x=count_estados_mais_sintomaticos.index, y=count_estados_mais_sintomaticos.values, color='salmon')\n",
        "ax.tick_params(axis='x', rotation=45)\n",
        "ax.set(\n",
        "    title='Estados com maior percentual de famílias sintomáticas',\n",
        ")\n",
        "ax.ylabel='%'"
      ],
      "metadata": {
        "colab": {
          "base_uri": "https://localhost:8080/",
          "height": 356
        },
        "id": "JB2OptM6tO8W",
        "outputId": "f3bda0dc-e0b4-4ee3-9e20-6e3cb7c64050"
      },
      "execution_count": 47,
      "outputs": [
        {
          "output_type": "display_data",
          "data": {
            "text/plain": [
              "<Figure size 432x288 with 1 Axes>"
            ],
            "image/png": "[encoded data removed]"
          },
          "metadata": {}
        }
      ]
    },
    {
      "cell_type": "markdown",
      "source": [
        "Quantidade de famílias sintomáticas por mês da pesquisa"
      ],
      "metadata": {
        "id": "SAoxgM50rUNI"
      }
    },
    {
      "cell_type": "code",
      "source": [
        "familias_sintomaticas_por_mes = familias_sintomaticas.groupby('mes').count().qtd_sintomas\n",
        "familias_sintomaticas_por_mes"
      ],
      "metadata": {
        "colab": {
          "base_uri": "https://localhost:8080/"
        },
        "id": "87l_-L5MpGD3",
        "outputId": "53391848-3297-43f6-ce4d-d0baaa5045e6"
      },
      "execution_count": 55,
      "outputs": [
        {
          "output_type": "execute_result",
          "data": {
            "text/plain": [
              "mes\n",
              "9     9256\n",
              "10    7689\n",
              "11    4165\n",
              "Name: qtd_sintomas, dtype: int64"
            ]
          },
          "metadata": {},
          "execution_count": 55
        }
      ]
    },
    {
      "cell_type": "code",
      "source": [
        "sns.set_style(\"darkgrid\", {\"grid.color\": \".6\", \"grid.linestyle\": \":\"})\n",
        "ax = sns.barplot(x=familias_sintomaticas_por_mes.index, y=familias_sintomaticas_por_mes.values, color='salmon')\n",
        "ax.set(\n",
        "    title='Quantidade de famílias sintomáticas no tempo',\n",
        ")\n"
      ],
      "metadata": {
        "colab": {
          "base_uri": "https://localhost:8080/",
          "height": 313
        },
        "id": "M74uK9KHdVQ1",
        "outputId": "c6016859-85db-4c16-b976-b118b1b0d0a4"
      },
      "execution_count": 58,
      "outputs": [
        {
          "output_type": "execute_result",
          "data": {
            "text/plain": [
              "[Text(0.5, 1.0, 'Quantidade de famílias sintomáticas no tempo')]"
            ]
          },
          "metadata": {},
          "execution_count": 58
        },
        {
          "output_type": "display_data",
          "data": {
            "text/plain": [
              "<Figure size 432x288 with 1 Axes>"
            ],
            "image/png": "[encoded data removed]"
          },
          "metadata": {}
        }
      ]
    },
    {
      "cell_type": "markdown",
      "source": [
        "Quantidade de famílias sintomáticas com empréstimo"
      ],
      "metadata": {
        "id": "QQZQNVzjrXqp"
      }
    },
    {
      "cell_type": "code",
      "source": [
        "familias_sintomaticas_com_emprestimos = familias_sintomaticas.possui_emprestimo == 1\n",
        "familias_sintomaticas_com_emprestimos.value_counts(normalize=True)*100"
      ],
      "metadata": {
        "colab": {
          "base_uri": "https://localhost:8080/"
        },
        "id": "rCDiEoghpgiy",
        "outputId": "347cf8b3-058d-4b16-e1e8-db165e173e13"
      },
      "execution_count": 41,
      "outputs": [
        {
          "output_type": "execute_result",
          "data": {
            "text/plain": [
              "False    89.142586\n",
              "True     10.857414\n",
              "Name: possui_emprestimo, dtype: float64"
            ]
          },
          "metadata": {},
          "execution_count": 41
        }
      ]
    }
  ]
}